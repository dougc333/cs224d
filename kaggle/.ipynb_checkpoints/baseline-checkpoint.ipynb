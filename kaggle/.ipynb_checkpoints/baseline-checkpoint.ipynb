{
 "cells": [
  {
   "cell_type": "code",
   "execution_count": null,
   "metadata": {
    "collapsed": true
   },
   "outputs": [],
   "source": [
    "<h6>Baseline for NLP sentiment classificaiton</h6>\n",
    "#https://www.kaggle.com/jhoward/nb-svm-strong-linear-baseline-eda-0-052-lb\n",
    "based on paper: https://nlp.stanford.edu/pubs/sidaw12_simple_sentiment.pdf\n",
    "        \n",
    "import numpy as np\n",
    "import sklearn\n"
   ]
  }
 ],
 "metadata": {
  "kernelspec": {
   "display_name": "Python 3",
   "language": "python",
   "name": "python3"
  },
  "language_info": {
   "codemirror_mode": {
    "name": "ipython",
    "version": 3
   },
   "file_extension": ".py",
   "mimetype": "text/x-python",
   "name": "python",
   "nbconvert_exporter": "python",
   "pygments_lexer": "ipython3",
   "version": "3.6.2"
  }
 },
 "nbformat": 4,
 "nbformat_minor": 2
}
